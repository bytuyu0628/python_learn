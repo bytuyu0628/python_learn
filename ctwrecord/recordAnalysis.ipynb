{
 "cells": [
  {
   "cell_type": "code",
   "execution_count": 8,
   "metadata": {},
   "outputs": [],
   "source": [
    "import zipfile\n",
    "import os"
   ]
  },
  {
   "cell_type": "code",
   "execution_count": 26,
   "metadata": {},
   "outputs": [],
   "source": [
    "# 判断文件存不存在\n",
    "def fileExist(path):\n",
    "    if os.path.exists(path):\n",
    "        return True\n",
    "    else:\n",
    "        return False"
   ]
  },
  {
   "cell_type": "code",
   "execution_count": 14,
   "metadata": {},
   "outputs": [],
   "source": [
    "# 获取指定目录下的zip文件\n",
    "def findZip(path):\n",
    "    fileList = os.listdir(path)\n",
    "    for i in fileList:                             # 循环读取路径下的文件并筛选输出\n",
    "        if os.path.splitext(i)[1] == \".zip\":   # 筛选csv文件\n",
    "            return i"
   ]
  },
  {
   "cell_type": "code",
   "execution_count": 32,
   "metadata": {},
   "outputs": [],
   "source": [
    "# 处理zip文件\n",
    "def handleZipFile(filePath):\n",
    "    # 获取zip对象\n",
    "    azip = zipfile.ZipFile(file)\n",
    "    # 解压\n",
    "    azip.extractall()\n",
    "    print(filePath+\"解压完成\")\n",
    "    recordDir = './CollectionFolder'\n",
    "    if fileExist(recordDir):\n",
    "        recordFiles = os.listdir(recordDir)\n",
    "        for onefile in recordFiles:\n",
    "            print(onefile)"
   ]
  },
  {
   "cell_type": "code",
   "execution_count": 22,
   "metadata": {},
   "outputs": [
    {
     "name": "stdout",
     "output_type": "stream",
     "text": [
      "请输入想要分析的行为日志zip，如果想要自动扫描当前目录下的zip包，请直接输入回车：android_20181120200044997_78C1D492A3447FAEA922AFB749C74B5F.zip\n",
      "android_20181120200044997_78C1D492A3447FAEA922AFB749C74B5F.zip\n"
     ]
    }
   ],
   "source": [
    "# 获取输入的zip文件\n",
    "zipF = input(\"请输入想要分析的行为日志zip，如果想要自动扫描当前目录下的zip包，请直接输入回车：\")\n",
    "print(zipF)"
   ]
  },
  {
   "cell_type": "code",
   "execution_count": 33,
   "metadata": {
    "scrolled": true
   },
   "outputs": [
    {
     "name": "stdout",
     "output_type": "stream",
     "text": [
      "解析android_20181120200044997_78C1D492A3447FAEA922AFB749C74B5F.zip\n",
      "android_20181120200044997_78C1D492A3447FAEA922AFB749C74B5F.zip解压完成\n",
      "SEND_INFO\n",
      "PREFERENCES\n",
      "UI_ACTION\n",
      "RECORD_TIME\n",
      "FILE_LOCK\n",
      "SEND_FILE_NAME\n"
     ]
    }
   ],
   "source": [
    "# 字符串判断\n",
    "if zipF.strip() == '':\n",
    "    # 遍历目录下的zip文件\n",
    "    print('查找目录下zip文件')\n",
    "    file = findZip('./')\n",
    "    print(file)\n",
    "    handleZipFile(findZip(file))\n",
    "else:\n",
    "    print('解析' + zipF)\n",
    "    if fileExist(zipF):\n",
    "        handleZipFile(zipF)\n",
    "        "
   ]
  }
 ],
 "metadata": {
  "kernelspec": {
   "display_name": "Python 3",
   "language": "python",
   "name": "python3"
  },
  "language_info": {
   "codemirror_mode": {
    "name": "ipython",
    "version": 3
   },
   "file_extension": ".py",
   "mimetype": "text/x-python",
   "name": "python",
   "nbconvert_exporter": "python",
   "pygments_lexer": "ipython3",
   "version": "3.7.0"
  }
 },
 "nbformat": 4,
 "nbformat_minor": 2
}
