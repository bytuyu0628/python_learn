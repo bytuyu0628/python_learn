{
 "cells": [
  {
   "cell_type": "code",
   "execution_count": 67,
   "metadata": {},
   "outputs": [],
   "source": [
    "import os\n",
    "import os.path\n",
    "import time"
   ]
  },
  {
   "cell_type": "code",
   "execution_count": 79,
   "metadata": {},
   "outputs": [],
   "source": [
    "def png2webp():\n",
    "    path = input('输入想要遍历的文件夹:(默认./images)')\n",
    "    filetype = input('想要转换的图片格式(png、jpg,默认png):')\n",
    "    q = input('转换质量(0~100，默认100):')\n",
    "    deleteFlag = input('转换完成后是否删除原图片(Y/n,默认n):')\n",
    "    startFlag = input('开始执行(Y/n):')\n",
    "    if path.strip() == '':\n",
    "        path = './images'\n",
    "    if filetype.strip() == '':\n",
    "        filetype = 'png'\n",
    "    if q.strip() == '':\n",
    "        q = '100'\n",
    "    if deleteFlag.strip() == '':\n",
    "        deleteFlag = 'n'\n",
    "    if startFlag.strip() == '':\n",
    "        startFlag = 'n'\n",
    "    if not startFlag.lower() == 'y':\n",
    "        print('执行终止')\n",
    "        return\n",
    "    files = get_filename(path, '.'+filetype)\n",
    "    for file in files:\n",
    "        print('\\033[1;33m>>>>>>>>>开始转换%s\\033[0m' % file)\n",
    "        wholepath = file\n",
    "        resultpath = file.replace('.'+filetype, '.webp')\n",
    "        os.popen('cwebp -q %s %s -o %s' % (q, wholepath, resultpath))\n",
    "        print('\\033[1;33m%s转换完成<<<<<<<<<\\033[0m' % resultpath)\n",
    "    print('全部完成,一共转换了%d张图片' % len(files))\n",
    "    if deleteFlag.lower() == 'y':\n",
    "        print('休息3秒后开始删除')\n",
    "        time.sleep(3)\n",
    "        for file in files:\n",
    "            os.remove(file)\n",
    "            print('\\033[1;33m>>>>>>>>>%s删除完成<<<<<<<<<\\033[0m' % file)"
   ]
  },
  {
   "cell_type": "code",
   "execution_count": 69,
   "metadata": {},
   "outputs": [],
   "source": [
    "# 深度遍历\n",
    "def get_filename(path,filetype):\n",
    "    name =[]\n",
    "    final_name = []\n",
    "    for root,dirs,files in os.walk(path):\n",
    "        for i in files:\n",
    "            if filetype in i:\n",
    "                # 排除点9图片\n",
    "                if '.9' in i:\n",
    "                    continue\n",
    "                wholePath = root +'/'+ i.replace(filetype,'')\n",
    "                name.append(wholePath)#生成不带完整路径的文件名组成的列表\n",
    "    final_name = [item +filetype for item in name]#生成filetype后缀的文件名组成的列表\n",
    "    print('找到%d个可以转换的图片' % len(final_name))\n",
    "    return final_name"
   ]
  },
  {
   "cell_type": "code",
   "execution_count": null,
   "metadata": {
    "scrolled": true
   },
   "outputs": [],
   "source": [
    "png2webp()\n",
    "#get_filename('/Users/taodi/Documents/projects/ct_ctw_android/app/src/main/res', 'png')"
   ]
  }
 ],
 "metadata": {
  "kernelspec": {
   "display_name": "Python 3",
   "language": "python",
   "name": "python3"
  },
  "language_info": {
   "codemirror_mode": {
    "name": "ipython",
    "version": 3
   },
   "file_extension": ".py",
   "mimetype": "text/x-python",
   "name": "python",
   "nbconvert_exporter": "python",
   "pygments_lexer": "ipython3",
   "version": "3.7.0"
  }
 },
 "nbformat": 4,
 "nbformat_minor": 2
}
