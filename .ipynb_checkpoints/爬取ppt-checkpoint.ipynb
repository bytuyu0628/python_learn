{
 "cells": [
  {
   "cell_type": "markdown",
   "metadata": {},
   "source": [
    "# 爬取办公资源上的文档\n",
    "悲剧的我被反爬了\n",
    "![](http://881023.top/image/被发现了.png)"
   ]
  },
  {
   "cell_type": "code",
   "execution_count": null,
   "metadata": {
    "scrolled": true
   },
   "outputs": [],
   "source": [
    "import os\n",
    "from requests_html import HTMLSession\n",
    "import urllib\n",
    "import urllib.request\n",
    "import requests\n",
    "# https\n",
    "import ssl\n",
    "ssl._create_default_https_context=ssl._create_unverified_context\n",
    "# 线程池\n",
    "from concurrent.futures import ThreadPoolExecutor,wait,as_completed\n",
    "import json"
   ]
  },
  {
   "cell_type": "code",
   "execution_count": null,
   "metadata": {},
   "outputs": [],
   "source": [
    "session = HTMLSession()\n",
    "# 创建一个ua，绕过初级反爬\n",
    "ua = 'Mozilla/5.0 (Windows NT 10.0; Win64; x64; rv:62.0) Gecko/20100101 Firefox/62.0'\n",
    "headers = {'User-Agent': ua}\n",
    "# 创建一个最大数量为3的线程池\n",
    "executor = ThreadPoolExecutor(max_workers=3)"
   ]
  },
  {
   "cell_type": "code",
   "execution_count": 113,
   "metadata": {
    "scrolled": true
   },
   "outputs": [],
   "source": [
    "# 用户信息，json串格式, 编码问题，实在难搞\n",
    "userInfo = '{\"id\":\"93000\",\"email\":\"\",\"qq_loginkey\":\"\",\"qq_account\":\"\",\"weixin_loginkey\":\"ow7770tQu8RGQEMY483H32TsKi2M\",\"weixin_account\":\"L55QD-ZmXC_lOsBz7NdR0eVY1zrp8mAYFlyNwCqA\",\"img\":\"http://thirdwx.qlogo.cn/mmopen/vi_32/Q0j4TwGTfTJXM9QWK5dWnj2gfutX4TGicb5DMlZticBiajaydMbzXFVhtdiclKb10c0GMzYLQQKd4Qs8d99lTf45NQ/132\",\"name\":\"樱花残月\",\"nickname\":\"\",\"mobile_phone\":\"17625930265\",\"member_type\":\"10\",\"vip_expire_date\":\"2021-09-02 15:47:58\",\"vip_first_expire_date\":\"2021-09-02 15:47:58\",\"vip_first_member_type\":\"10\",\"last_callback_trade_no\":\"180902034736638632\",\"last_pay_date\":\"2018-09-02 15:47:58\",\"last_pay_member_type\":\"10\",\"guid\":\"6ead0f350bd4fc63f80bf4aaa71c738046c0b8cc\",\"password\":\"5fded8de87c8f7d2e0b492fc8c37cecbdc72e3b2\"}'\n",
    "userInfoStr = '%7B%22id%22%3A%2293000%22%2C%22email%22%3A%22%22%2C%22qq_loginkey%22%3A%22%22%2C%22qq_account%22%3A%22%22%2C%22weixin_loginkey%22%3A%22ow7770tQu8RGQEMY483H32TsKi2M%22%2C%22weixin_account%22%3A%22L55QD-ZmXC_lOsBz7NdR0eVY1zrp8mAYFlyNwCqA%22%2C%22img%22%3A%22http%3A%2F%2Fthirdwx.qlogo.cn%2Fmmopen%2Fvi_32%2FQ0j4TwGTfTJXM9QWK5dWnj2gfutX4TGicb5DMlZticBiajaydMbzXFVhtdiclKb10c0GMzYLQQKd4Qs8d99lTf45NQ%2F132%22%2C%22name%22%3A%22%E6%A8%B1%E8%8A%B1%E6%AE%8B%E6%9C%88%22%2C%22nickname%22%3A%22%22%2C%22mobile_phone%22%3A%2217625930265%22%2C%22member_type%22%3A%2210%22%2C%22vip_expire_date%22%3A%222021-09-02%2015%3A47%3A58%22%2C%22vip_first_expire_date%22%3A%222021-09-02%2015%3A47%3A58%22%2C%22vip_first_member_type%22%3A%2210%22%2C%22last_callback_trade_no%22%3A%22180902034736638632%22%2C%22last_pay_date%22%3A%222018-09-02%2015%3A47%3A58%22%2C%22last_pay_member_type%22%3A%2210%22%2C%22guid%22%3A%226ead0f350bd4fc63f80bf4aaa71c738046c0b8cc%22%2C%22password%22%3A%225fded8de87c8f7d2e0b492fc8c37cecbdc72e3b2%22%7D'\n",
    "# 解析用户信息json\n",
    "userObject = json.loads(userInfo)\n",
    "# cookie\n",
    "cookies = {'userInfo': userInfoStr}"
   ]
  },
  {
   "cell_type": "markdown",
   "metadata": {},
   "source": [
    "要用的方法"
   ]
  },
  {
   "cell_type": "code",
   "execution_count": 141,
   "metadata": {},
   "outputs": [],
   "source": [
    "# 获取总页数\n",
    "def get_total_page_count():\n",
    "    response = session.get('http://www.bangongziyuan.com/ppt/pn/1.html', headers=headers, cookies=cookies)\n",
    "    # 获取当前一共多少页\n",
    "    pages = response.html.find('input#pptAll', first=True)\n",
    "    pageCount = int(pages.attrs['value'])\n",
    "    return pageCount\n",
    "# 获取后半部分文件地址\n",
    "def get_file_path(proId):\n",
    "    downloadResp = session.post(downloadUrl, {'proId':proId, 'userId':userObject['id']})\n",
    "    fileWholeObject = json.loads(downloadResp.html.text)\n",
    "    # 正常状态\n",
    "    if fileWholeObject['status'] == 1:\n",
    "        # 下载地址后半部分文件地址\n",
    "        fileUrl = fileWholeObject['data']['path']\n",
    "        return fileUrl\n",
    "    # 估计是被限制了\n",
    "    else:\n",
    "        print('\\033[1;31m 应该是被限制了 \\033[0m')\n",
    "        return ''\n",
    "# 获取文件完整地址\n",
    "def get_file_url(filePartUrl):\n",
    "    if filePartUrl == '':\n",
    "        return ''\n",
    "    # 用来请求文档的相对地址的，下载地址,找得我好辛苦啊-。-\n",
    "    downloadUrl = 'http://www.bangongziyuan.com/inter/addDownload'\n",
    "    # 拼接下载地址的前半部分\n",
    "    responseFirst = session.get('http://www.bangongziyuan.com/ppt/pn/1.html', headers=headers, cookies=cookies)\n",
    "    fileFrontPart = responseFirst.html.find('input#fileUrl', first=True).attrs['value'].replace('http://image1.bangongziyuan.com','')\n",
    "    print('完整的地址%s' % (fileFrontPart + filePartUrl.replace))\n",
    "    return fileFrontPart + filePartUrl\n",
    "\n",
    "# 从网页中摘取所有的proid,返回的是二维list\n",
    "def get_file_id(url):\n",
    "    result = []\n",
    "    response = session.get(url, headers=headers, cookies=cookies)\n",
    "    content = response.html.find('div.model-content', first=True)\n",
    "    lists = content.find('div.model-item')\n",
    "    for one in lists:\n",
    "        name = one.find('a.title', first=True).text\n",
    "        id = one.find('div.down', first=True).attrs['data-proid']\n",
    "        result.append([name, id])\n",
    "    return result\n",
    "\n",
    "# 下载文件\n",
    "def downloadfile(url, filename):\n",
    "    print('开始下载文件')\n",
    "    try:\n",
    "        # r = requests.get(url)\n",
    "        path = \"docs/\"+filename\n",
    "        r = requests.get(url, headers=headers)\n",
    "        with open(path,\"wb\") as f:\n",
    "            f.write(r.content)\n",
    "        f.close()\n",
    "    except Exception:\n",
    "        print('\\033[1;31m 下载失败 \\033[0m')\n",
    "    else:\n",
    "        print(\"\\033[1;32m 下载\", filename, \"完成\\033[0m\")"
   ]
  },
  {
   "cell_type": "markdown",
   "metadata": {},
   "source": [
    "爬取流程"
   ]
  },
  {
   "cell_type": "code",
   "execution_count": null,
   "metadata": {
    "scrolled": false
   },
   "outputs": [],
   "source": [
    "pageCount = get_total_page_count()\n",
    "for index in range(pageCount):\n",
    "    pageUrl = 'http://www.bangongziyuan.com/ppt/pn/%d.html' % (index+1)\n",
    "    print(pageUrl)\n",
    "    docs = get_file_id(pageUrl)\n",
    "    for docInfo in docs:\n",
    "        start_one_doc_get(docInfo)\n",
    "    "
   ]
  },
  {
   "cell_type": "code",
   "execution_count": 143,
   "metadata": {},
   "outputs": [],
   "source": [
    "# 开始获取一个文件\n",
    "def start_one_doc_get(docInfo):\n",
    "    title = docInfo[0]\n",
    "    id = docInfo[1]\n",
    "    filePart = get_file_path(id)\n",
    "    fileWholeUrl = get_file_url(filePart)\n",
    "    print(fileWholeUrl)"
   ]
  },
  {
   "cell_type": "code",
   "execution_count": null,
   "metadata": {},
   "outputs": [],
   "source": [
    "get_file_id('http://www.bangongziyuan.com/ppt/pn/1.html')"
   ]
  }
 ],
 "metadata": {
  "kernelspec": {
   "display_name": "Python 3",
   "language": "python",
   "name": "python3"
  },
  "language_info": {
   "codemirror_mode": {
    "name": "ipython",
    "version": 3
   },
   "file_extension": ".py",
   "mimetype": "text/x-python",
   "name": "python",
   "nbconvert_exporter": "python",
   "pygments_lexer": "ipython3",
   "version": "3.7.0"
  }
 },
 "nbformat": 4,
 "nbformat_minor": 2
}
