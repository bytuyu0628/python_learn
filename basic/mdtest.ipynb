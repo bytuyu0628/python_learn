{
 "cells": [
  {
   "cell_type": "code",
   "execution_count": 6,
   "metadata": {},
   "outputs": [],
   "source": [
    "import misaka as m\n",
    "from pygments import highlight\n",
    "from pygments.formatters import HtmlFormatter, ClassNotFound\n",
    "from pygments.lexers import get_lexer_by_name"
   ]
  },
  {
   "cell_type": "code",
   "execution_count": 7,
   "metadata": {},
   "outputs": [
    {
     "name": "stdout",
     "output_type": "stream",
     "text": [
      "<p>Here is some code:</p>\n",
      "<div class=\"highlight\"><pre><span></span><span class=\"k\">print</span><span class=\"p\">(</span><span class=\"mi\">123</span><span class=\"p\">)</span>\n",
      "</pre></div>\n",
      "\n",
      "<p>More code:</p>\n",
      "\n"
     ]
    },
    {
     "name": "stderr",
     "output_type": "stream",
     "text": [
      "From cffi callback <function cb_blockcode at 0x10370f2f0>:\n",
      "Traceback (most recent call last):\n",
      "  File \"/Library/Frameworks/Python.framework/Versions/3.7/lib/python3.7/site-packages/misaka/callbacks.py\", line 15, in cb_blockcode\n",
      "    result = renderer.blockcode(text, lang)\n",
      "  File \"<ipython-input-7-0cf65cb3b4a6>\", line 13, in blockcode\n",
      "NameError: name 'h' is not defined\n"
     ]
    }
   ],
   "source": [
    "class HighlighterRenderer(m.HtmlRenderer):\n",
    "    def blockcode(self, text, lang):\n",
    "        try:\n",
    "            lexer = get_lexer_by_name(lang, stripall=True)\n",
    "        except ClassNotFound:\n",
    "            lexer = None\n",
    "\n",
    "        if lexer:\n",
    "            formatter = HtmlFormatter()\n",
    "            return highlight(text, lexer, formatter)\n",
    "        # default\n",
    "        return '\\n<pre><code>{}</code></pre>\\n'.format(\n",
    "                            h.escape_html(text.strip()))\n",
    "\n",
    "renderer = HighlighterRenderer()\n",
    "md = m.Markdown(renderer, extensions=('fenced-code',))\n",
    "\n",
    "print(md(\"\"\"\n",
    "Here is some code:\n",
    "\n",
    "```python\n",
    "print(123)\n",
    "```\n",
    "\n",
    "More code:\n",
    "\n",
    "    print(123)\n",
    "\"\"\"))"
   ]
  }
 ],
 "metadata": {
  "kernelspec": {
   "display_name": "Python 3",
   "language": "python",
   "name": "python3"
  },
  "language_info": {
   "codemirror_mode": {
    "name": "ipython",
    "version": 3
   },
   "file_extension": ".py",
   "mimetype": "text/x-python",
   "name": "python",
   "nbconvert_exporter": "python",
   "pygments_lexer": "ipython3",
   "version": "3.7.0"
  }
 },
 "nbformat": 4,
 "nbformat_minor": 2
}
