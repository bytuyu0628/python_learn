{
 "cells": [
  {
   "cell_type": "code",
   "execution_count": 92,
   "metadata": {},
   "outputs": [],
   "source": [
    "import os\n",
    "import sys"
   ]
  },
  {
   "cell_type": "code",
   "execution_count": 81,
   "metadata": {},
   "outputs": [],
   "source": [
    "# 执行中断命令 返回结果\n",
    "def bashInfo(commond):\n",
    "    return os.popen(commond).read().strip('\\n')"
   ]
  },
  {
   "cell_type": "markdown",
   "metadata": {},
   "source": [
    "## 检查设备在线情况\n",
    "adb devices"
   ]
  },
  {
   "cell_type": "code",
   "execution_count": 21,
   "metadata": {},
   "outputs": [],
   "source": [
    "# 检查设备在线\n",
    "def checkDevice():\n",
    "    devices = os.popen('adb devices').read().strip('\\n').split('\\n')\n",
    "    if len(devices) > 1:\n",
    "        return devices[1].split('\\t')[0]\n",
    "    else:\n",
    "        return \"\""
   ]
  },
  {
   "cell_type": "markdown",
   "metadata": {},
   "source": [
    "## 打开APP\n",
    "使用adb shell am start -n com.android.settings/com.tts.trip.WelcomeActivity\n",
    "使用app包与要启动的Activity的全路径名称"
   ]
  },
  {
   "cell_type": "code",
   "execution_count": 30,
   "metadata": {},
   "outputs": [],
   "source": [
    "# 打开APP\n",
    "def openApp(package, name):\n",
    "    appCommond = 'adb shell am start -n %s/%s' % (package, name)\n",
    "    info = os.popen(appCommond).read().strip('\\n')\n",
    "    if 'Error' in info:\n",
    "        return False\n",
    "    else:\n",
    "        return True"
   ]
  },
  {
   "cell_type": "markdown",
   "metadata": {},
   "source": [
    "## 获取前台Activity\n",
    "\n",
    "adb shell dumpsys activity activities | sed -En -e '/Running activities/,/Run #0/p'\n",
    "\n",
    "adb shell dumpsys activity | grep -i run"
   ]
  },
  {
   "cell_type": "code",
   "execution_count": 74,
   "metadata": {},
   "outputs": [],
   "source": [
    "# 获取前台Activity\n",
    "def getFrontActivity(package):\n",
    "    info = ''\n",
    "    activitys = []\n",
    "    if package.strip('\\n') == '':\n",
    "        info = os.popen('adb shell dumpsys activity activities | sed -En -e \\'/Running activities/,/Run #0/p\\'').read().strip('\\n')\n",
    "    else:\n",
    "        info = os.popen('adb shell dumpsys activity activities | sed -En -e \\'/Running activities/,/Run #0/p\\' | grep %s' % package).read().strip('\\n')\n",
    "    \n",
    "    # 换行分组\n",
    "    infos = info.split('\\n')\n",
    "    for one in infos:\n",
    "        if 'ActivityRecord' in one:\n",
    "            words = one.split(' ')\n",
    "            for word in words:\n",
    "                if '/' in word:\n",
    "                    activitys.append(word)\n",
    "    return activitys"
   ]
  },
  {
   "cell_type": "markdown",
   "metadata": {},
   "source": [
    "## 获取手机上已安装的应用\n",
    "\n",
    "- 不使用参数：adb shell pm list packages，打印设备/模拟器上的所有软件包\n",
    "- 使用-f参数：adb shell pm list packages -f,输出包和包相关联的文件\n",
    "- 使用-d参数：adb shell pm list packages -d,只输出禁用的包。由于本机禁用没有，输出为空。\n",
    "- 使用-e参数：adb shell pm list packages -e,只输出启用的包。\n",
    "- 使用-s参数：adb shell pm list packages -s,只输出系统的包。\n",
    "- 使用-3参数：adb shell pm list packages -3,只输出第三方的包。\n",
    "- 使用-i参数：adb shell pm list packages -i,只输出包和安装信息（安装来源）。\n",
    "- 使用-u参数：adb shell pm list packages -u,只输出包和未安装包信息（安装来源）\n",
    "- 使用--user参数：adb shell pm list packages --user <USER_ID>，根据用户id查询用户的空间的所有包，USER_ID代表当前连接设备的顺序，从零开始：\n",
    "- 使用-e参数且设置过滤条件：adb shell pm list packages -e \"ximalaya\",只输出启用的包。"
   ]
  },
  {
   "cell_type": "code",
   "execution_count": 77,
   "metadata": {},
   "outputs": [],
   "source": [
    "# 获取第三方应用\n",
    "def getThirdApps():\n",
    "    packageNames = []\n",
    "    commond = 'adb shell pm list packages -3'\n",
    "    info = os.popen(commond).read().strip('\\n')\n",
    "    apps = info.split('\\n')\n",
    "    for app in apps:\n",
    "        app = app.replace('package:', '')\n",
    "        packageNames.append(app)\n",
    "    return packageNames"
   ]
  },
  {
   "cell_type": "markdown",
   "metadata": {},
   "source": [
    "## 把apk包从手机下载到本地\n",
    "### 根据包名获取apk位置\n",
    "adb shell pm path 包名\n",
    "### 拉取\n",
    "adb pull 手机中apk的位置 保存在本地的位置"
   ]
  },
  {
   "cell_type": "code",
   "execution_count": 88,
   "metadata": {},
   "outputs": [],
   "source": [
    "# 拉取\n",
    "def pullApk(package):\n",
    "    getPathCommond = 'adb shell pm path %s' % package\n",
    "    path = bashInfo(getPathCommond)\n",
    "    path = path.replace('package:', '')\n",
    "    pullCommond = 'adb pull %s apk/%s.apk' % (path, package)\n",
    "    result = bashInfo(pullCommond)\n",
    "    return result"
   ]
  },
  {
   "cell_type": "code",
   "execution_count": 93,
   "metadata": {},
   "outputs": [
    {
     "name": "stdout",
     "output_type": "stream",
     "text": [
      "查找到设备UYT0217C27001193\n"
     ]
    },
    {
     "data": {
      "text/plain": [
       "'[  0%] /data/app/com.tts.hybird-1-s6boFF7srzE4ywS2eSpA==/base.apk\\n[  0%] /data/app/com.tts.hybird-1-s6boFF7srzE4ywS2eSpA==/base.apk\\n[  0%] /data/app/com.tts.hybird-1-s6boFF7srzE4ywS2eSpA==/base.apk\\n[  1%] /data/app/com.tts.hybird-1-s6boFF7srzE4ywS2eSpA==/base.apk\\n[  1%] /data/app/com.tts.hybird-1-s6boFF7srzE4ywS2eSpA==/base.apk\\n[  1%] /data/app/com.tts.hybird-1-s6boFF7srzE4ywS2eSpA==/base.apk\\n[  2%] /data/app/com.tts.hybird-1-s6boFF7srzE4ywS2eSpA==/base.apk\\n[  2%] /data/app/com.tts.hybird-1-s6boFF7srzE4ywS2eSpA==/base.apk\\n[  2%] /data/app/com.tts.hybird-1-s6boFF7srzE4ywS2eSpA==/base.apk\\n[  3%] /data/app/com.tts.hybird-1-s6boFF7srzE4ywS2eSpA==/base.apk\\n[  3%] /data/app/com.tts.hybird-1-s6boFF7srzE4ywS2eSpA==/base.apk\\n[  3%] /data/app/com.tts.hybird-1-s6boFF7srzE4ywS2eSpA==/base.apk\\n[  3%] /data/app/com.tts.hybird-1-s6boFF7srzE4ywS2eSpA==/base.apk\\n[  4%] /data/app/com.tts.hybird-1-s6boFF7srzE4ywS2eSpA==/base.apk\\n[  4%] /data/app/com.tts.hybird-1-s6boFF7srzE4ywS2eSpA==/base.apk\\n[  4%] /data/app/com.tts.hybird-1-s6boFF7srzE4ywS2eSpA==/base.apk\\n[  5%] /data/app/com.tts.hybird-1-s6boFF7srzE4ywS2eSpA==/base.apk\\n[  5%] /data/app/com.tts.hybird-1-s6boFF7srzE4ywS2eSpA==/base.apk\\n[  5%] /data/app/com.tts.hybird-1-s6boFF7srzE4ywS2eSpA==/base.apk\\n[  6%] /data/app/com.tts.hybird-1-s6boFF7srzE4ywS2eSpA==/base.apk\\n[  6%] /data/app/com.tts.hybird-1-s6boFF7srzE4ywS2eSpA==/base.apk\\n[  6%] /data/app/com.tts.hybird-1-s6boFF7srzE4ywS2eSpA==/base.apk\\n[  6%] /data/app/com.tts.hybird-1-s6boFF7srzE4ywS2eSpA==/base.apk\\n[  7%] /data/app/com.tts.hybird-1-s6boFF7srzE4ywS2eSpA==/base.apk\\n[  7%] /data/app/com.tts.hybird-1-s6boFF7srzE4ywS2eSpA==/base.apk\\n[  7%] /data/app/com.tts.hybird-1-s6boFF7srzE4ywS2eSpA==/base.apk\\n[  8%] /data/app/com.tts.hybird-1-s6boFF7srzE4ywS2eSpA==/base.apk\\n[  8%] /data/app/com.tts.hybird-1-s6boFF7srzE4ywS2eSpA==/base.apk\\n[  8%] /data/app/com.tts.hybird-1-s6boFF7srzE4ywS2eSpA==/base.apk\\n[  9%] /data/app/com.tts.hybird-1-s6boFF7srzE4ywS2eSpA==/base.apk\\n[  9%] /data/app/com.tts.hybird-1-s6boFF7srzE4ywS2eSpA==/base.apk\\n[  9%] /data/app/com.tts.hybird-1-s6boFF7srzE4ywS2eSpA==/base.apk\\n[  9%] /data/app/com.tts.hybird-1-s6boFF7srzE4ywS2eSpA==/base.apk\\n[ 10%] /data/app/com.tts.hybird-1-s6boFF7srzE4ywS2eSpA==/base.apk\\n[ 10%] /data/app/com.tts.hybird-1-s6boFF7srzE4ywS2eSpA==/base.apk\\n[ 10%] /data/app/com.tts.hybird-1-s6boFF7srzE4ywS2eSpA==/base.apk\\n[ 11%] /data/app/com.tts.hybird-1-s6boFF7srzE4ywS2eSpA==/base.apk\\n[ 11%] /data/app/com.tts.hybird-1-s6boFF7srzE4ywS2eSpA==/base.apk\\n[ 11%] /data/app/com.tts.hybird-1-s6boFF7srzE4ywS2eSpA==/base.apk\\n[ 12%] /data/app/com.tts.hybird-1-s6boFF7srzE4ywS2eSpA==/base.apk\\n[ 12%] /data/app/com.tts.hybird-1-s6boFF7srzE4ywS2eSpA==/base.apk\\n[ 12%] /data/app/com.tts.hybird-1-s6boFF7srzE4ywS2eSpA==/base.apk\\n[ 13%] /data/app/com.tts.hybird-1-s6boFF7srzE4ywS2eSpA==/base.apk\\n[ 13%] /data/app/com.tts.hybird-1-s6boFF7srzE4ywS2eSpA==/base.apk\\n[ 13%] /data/app/com.tts.hybird-1-s6boFF7srzE4ywS2eSpA==/base.apk\\n[ 13%] /data/app/com.tts.hybird-1-s6boFF7srzE4ywS2eSpA==/base.apk\\n[ 14%] /data/app/com.tts.hybird-1-s6boFF7srzE4ywS2eSpA==/base.apk\\n[ 14%] /data/app/com.tts.hybird-1-s6boFF7srzE4ywS2eSpA==/base.apk\\n[ 14%] /data/app/com.tts.hybird-1-s6boFF7srzE4ywS2eSpA==/base.apk\\n[ 15%] /data/app/com.tts.hybird-1-s6boFF7srzE4ywS2eSpA==/base.apk\\n[ 15%] /data/app/com.tts.hybird-1-s6boFF7srzE4ywS2eSpA==/base.apk\\n[ 15%] /data/app/com.tts.hybird-1-s6boFF7srzE4ywS2eSpA==/base.apk\\n[ 16%] /data/app/com.tts.hybird-1-s6boFF7srzE4ywS2eSpA==/base.apk\\n[ 16%] /data/app/com.tts.hybird-1-s6boFF7srzE4ywS2eSpA==/base.apk\\n[ 16%] /data/app/com.tts.hybird-1-s6boFF7srzE4ywS2eSpA==/base.apk\\n[ 16%] /data/app/com.tts.hybird-1-s6boFF7srzE4ywS2eSpA==/base.apk\\n[ 17%] /data/app/com.tts.hybird-1-s6boFF7srzE4ywS2eSpA==/base.apk\\n[ 17%] /data/app/com.tts.hybird-1-s6boFF7srzE4ywS2eSpA==/base.apk\\n[ 17%] /data/app/com.tts.hybird-1-s6boFF7srzE4ywS2eSpA==/base.apk\\n[ 18%] /data/app/com.tts.hybird-1-s6boFF7srzE4ywS2eSpA==/base.apk\\n[ 18%] /data/app/com.tts.hybird-1-s6boFF7srzE4ywS2eSpA==/base.apk\\n[ 18%] /data/app/com.tts.hybird-1-s6boFF7srzE4ywS2eSpA==/base.apk\\n[ 19%] /data/app/com.tts.hybird-1-s6boFF7srzE4ywS2eSpA==/base.apk\\n[ 19%] /data/app/com.tts.hybird-1-s6boFF7srzE4ywS2eSpA==/base.apk\\n[ 19%] /data/app/com.tts.hybird-1-s6boFF7srzE4ywS2eSpA==/base.apk\\n[ 19%] /data/app/com.tts.hybird-1-s6boFF7srzE4ywS2eSpA==/base.apk\\n[ 20%] /data/app/com.tts.hybird-1-s6boFF7srzE4ywS2eSpA==/base.apk\\n[ 20%] /data/app/com.tts.hybird-1-s6boFF7srzE4ywS2eSpA==/base.apk\\n[ 20%] /data/app/com.tts.hybird-1-s6boFF7srzE4ywS2eSpA==/base.apk\\n[ 21%] /data/app/com.tts.hybird-1-s6boFF7srzE4ywS2eSpA==/base.apk\\n[ 21%] /data/app/com.tts.hybird-1-s6boFF7srzE4ywS2eSpA==/base.apk\\n[ 21%] /data/app/com.tts.hybird-1-s6boFF7srzE4ywS2eSpA==/base.apk\\n[ 22%] /data/app/com.tts.hybird-1-s6boFF7srzE4ywS2eSpA==/base.apk\\n[ 22%] /data/app/com.tts.hybird-1-s6boFF7srzE4ywS2eSpA==/base.apk\\n[ 22%] /data/app/com.tts.hybird-1-s6boFF7srzE4ywS2eSpA==/base.apk\\n[ 22%] /data/app/com.tts.hybird-1-s6boFF7srzE4ywS2eSpA==/base.apk\\n[ 23%] /data/app/com.tts.hybird-1-s6boFF7srzE4ywS2eSpA==/base.apk\\n[ 23%] /data/app/com.tts.hybird-1-s6boFF7srzE4ywS2eSpA==/base.apk\\n[ 23%] /data/app/com.tts.hybird-1-s6boFF7srzE4ywS2eSpA==/base.apk\\n[ 24%] /data/app/com.tts.hybird-1-s6boFF7srzE4ywS2eSpA==/base.apk\\n[ 24%] /data/app/com.tts.hybird-1-s6boFF7srzE4ywS2eSpA==/base.apk\\n[ 24%] /data/app/com.tts.hybird-1-s6boFF7srzE4ywS2eSpA==/base.apk\\n[ 25%] /data/app/com.tts.hybird-1-s6boFF7srzE4ywS2eSpA==/base.apk\\n[ 25%] /data/app/com.tts.hybird-1-s6boFF7srzE4ywS2eSpA==/base.apk\\n[ 25%] /data/app/com.tts.hybird-1-s6boFF7srzE4ywS2eSpA==/base.apk\\n[ 26%] /data/app/com.tts.hybird-1-s6boFF7srzE4ywS2eSpA==/base.apk\\n[ 26%] /data/app/com.tts.hybird-1-s6boFF7srzE4ywS2eSpA==/base.apk\\n[ 26%] /data/app/com.tts.hybird-1-s6boFF7srzE4ywS2eSpA==/base.apk\\n[ 26%] /data/app/com.tts.hybird-1-s6boFF7srzE4ywS2eSpA==/base.apk\\n[ 27%] /data/app/com.tts.hybird-1-s6boFF7srzE4ywS2eSpA==/base.apk\\n[ 27%] /data/app/com.tts.hybird-1-s6boFF7srzE4ywS2eSpA==/base.apk\\n[ 27%] /data/app/com.tts.hybird-1-s6boFF7srzE4ywS2eSpA==/base.apk\\n[ 28%] /data/app/com.tts.hybird-1-s6boFF7srzE4ywS2eSpA==/base.apk\\n[ 28%] /data/app/com.tts.hybird-1-s6boFF7srzE4ywS2eSpA==/base.apk\\n[ 28%] /data/app/com.tts.hybird-1-s6boFF7srzE4ywS2eSpA==/base.apk\\n[ 29%] /data/app/com.tts.hybird-1-s6boFF7srzE4ywS2eSpA==/base.apk\\n[ 29%] /data/app/com.tts.hybird-1-s6boFF7srzE4ywS2eSpA==/base.apk\\n[ 29%] /data/app/com.tts.hybird-1-s6boFF7srzE4ywS2eSpA==/base.apk\\n[ 29%] /data/app/com.tts.hybird-1-s6boFF7srzE4ywS2eSpA==/base.apk\\n[ 30%] /data/app/com.tts.hybird-1-s6boFF7srzE4ywS2eSpA==/base.apk\\n[ 30%] /data/app/com.tts.hybird-1-s6boFF7srzE4ywS2eSpA==/base.apk\\n[ 30%] /data/app/com.tts.hybird-1-s6boFF7srzE4ywS2eSpA==/base.apk\\n[ 31%] /data/app/com.tts.hybird-1-s6boFF7srzE4ywS2eSpA==/base.apk\\n[ 31%] /data/app/com.tts.hybird-1-s6boFF7srzE4ywS2eSpA==/base.apk\\n[ 31%] /data/app/com.tts.hybird-1-s6boFF7srzE4ywS2eSpA==/base.apk\\n[ 32%] /data/app/com.tts.hybird-1-s6boFF7srzE4ywS2eSpA==/base.apk\\n[ 32%] /data/app/com.tts.hybird-1-s6boFF7srzE4ywS2eSpA==/base.apk\\n[ 32%] /data/app/com.tts.hybird-1-s6boFF7srzE4ywS2eSpA==/base.apk\\n[ 32%] /data/app/com.tts.hybird-1-s6boFF7srzE4ywS2eSpA==/base.apk\\n[ 33%] /data/app/com.tts.hybird-1-s6boFF7srzE4ywS2eSpA==/base.apk\\n[ 33%] /data/app/com.tts.hybird-1-s6boFF7srzE4ywS2eSpA==/base.apk\\n[ 33%] /data/app/com.tts.hybird-1-s6boFF7srzE4ywS2eSpA==/base.apk\\n[ 34%] /data/app/com.tts.hybird-1-s6boFF7srzE4ywS2eSpA==/base.apk\\n[ 34%] /data/app/com.tts.hybird-1-s6boFF7srzE4ywS2eSpA==/base.apk\\n[ 34%] /data/app/com.tts.hybird-1-s6boFF7srzE4ywS2eSpA==/base.apk\\n[ 35%] /data/app/com.tts.hybird-1-s6boFF7srzE4ywS2eSpA==/base.apk\\n[ 35%] /data/app/com.tts.hybird-1-s6boFF7srzE4ywS2eSpA==/base.apk\\n[ 35%] /data/app/com.tts.hybird-1-s6boFF7srzE4ywS2eSpA==/base.apk\\n[ 35%] /data/app/com.tts.hybird-1-s6boFF7srzE4ywS2eSpA==/base.apk\\n[ 36%] /data/app/com.tts.hybird-1-s6boFF7srzE4ywS2eSpA==/base.apk\\n[ 36%] /data/app/com.tts.hybird-1-s6boFF7srzE4ywS2eSpA==/base.apk\\n[ 36%] /data/app/com.tts.hybird-1-s6boFF7srzE4ywS2eSpA==/base.apk\\n[ 37%] /data/app/com.tts.hybird-1-s6boFF7srzE4ywS2eSpA==/base.apk\\n[ 37%] /data/app/com.tts.hybird-1-s6boFF7srzE4ywS2eSpA==/base.apk\\n[ 37%] /data/app/com.tts.hybird-1-s6boFF7srzE4ywS2eSpA==/base.apk\\n[ 38%] /data/app/com.tts.hybird-1-s6boFF7srzE4ywS2eSpA==/base.apk\\n[ 38%] /data/app/com.tts.hybird-1-s6boFF7srzE4ywS2eSpA==/base.apk\\n[ 38%] /data/app/com.tts.hybird-1-s6boFF7srzE4ywS2eSpA==/base.apk\\n[ 39%] /data/app/com.tts.hybird-1-s6boFF7srzE4ywS2eSpA==/base.apk\\n[ 39%] /data/app/com.tts.hybird-1-s6boFF7srzE4ywS2eSpA==/base.apk\\n[ 39%] /data/app/com.tts.hybird-1-s6boFF7srzE4ywS2eSpA==/base.apk\\n[ 39%] /data/app/com.tts.hybird-1-s6boFF7srzE4ywS2eSpA==/base.apk\\n[ 40%] /data/app/com.tts.hybird-1-s6boFF7srzE4ywS2eSpA==/base.apk\\n[ 40%] /data/app/com.tts.hybird-1-s6boFF7srzE4ywS2eSpA==/base.apk\\n[ 40%] /data/app/com.tts.hybird-1-s6boFF7srzE4ywS2eSpA==/base.apk\\n[ 41%] /data/app/com.tts.hybird-1-s6boFF7srzE4ywS2eSpA==/base.apk\\n[ 41%] /data/app/com.tts.hybird-1-s6boFF7srzE4ywS2eSpA==/base.apk\\n[ 41%] /data/app/com.tts.hybird-1-s6boFF7srzE4ywS2eSpA==/base.apk\\n[ 42%] /data/app/com.tts.hybird-1-s6boFF7srzE4ywS2eSpA==/base.apk\\n[ 42%] /data/app/com.tts.hybird-1-s6boFF7srzE4ywS2eSpA==/base.apk\\n[ 42%] /data/app/com.tts.hybird-1-s6boFF7srzE4ywS2eSpA==/base.apk\\n[ 42%] /data/app/com.tts.hybird-1-s6boFF7srzE4ywS2eSpA==/base.apk\\n[ 43%] /data/app/com.tts.hybird-1-s6boFF7srzE4ywS2eSpA==/base.apk\\n[ 43%] /data/app/com.tts.hybird-1-s6boFF7srzE4ywS2eSpA==/base.apk\\n[ 43%] /data/app/com.tts.hybird-1-s6boFF7srzE4ywS2eSpA==/base.apk\\n[ 44%] /data/app/com.tts.hybird-1-s6boFF7srzE4ywS2eSpA==/base.apk\\n[ 44%] /data/app/com.tts.hybird-1-s6boFF7srzE4ywS2eSpA==/base.apk\\n[ 44%] /data/app/com.tts.hybird-1-s6boFF7srzE4ywS2eSpA==/base.apk\\n[ 45%] /data/app/com.tts.hybird-1-s6boFF7srzE4ywS2eSpA==/base.apk\\n[ 45%] /data/app/com.tts.hybird-1-s6boFF7srzE4ywS2eSpA==/base.apk\\n[ 45%] /data/app/com.tts.hybird-1-s6boFF7srzE4ywS2eSpA==/base.apk\\n[ 45%] /data/app/com.tts.hybird-1-s6boFF7srzE4ywS2eSpA==/base.apk\\n[ 46%] /data/app/com.tts.hybird-1-s6boFF7srzE4ywS2eSpA==/base.apk\\n[ 46%] /data/app/com.tts.hybird-1-s6boFF7srzE4ywS2eSpA==/base.apk\\n[ 46%] /data/app/com.tts.hybird-1-s6boFF7srzE4ywS2eSpA==/base.apk\\n[ 47%] /data/app/com.tts.hybird-1-s6boFF7srzE4ywS2eSpA==/base.apk\\n[ 47%] /data/app/com.tts.hybird-1-s6boFF7srzE4ywS2eSpA==/base.apk\\n[ 47%] /data/app/com.tts.hybird-1-s6boFF7srzE4ywS2eSpA==/base.apk\\n[ 48%] /data/app/com.tts.hybird-1-s6boFF7srzE4ywS2eSpA==/base.apk\\n[ 48%] /data/app/com.tts.hybird-1-s6boFF7srzE4ywS2eSpA==/base.apk\\n[ 48%] /data/app/com.tts.hybird-1-s6boFF7srzE4ywS2eSpA==/base.apk\\n[ 49%] /data/app/com.tts.hybird-1-s6boFF7srzE4ywS2eSpA==/base.apk\\n[ 49%] /data/app/com.tts.hybird-1-s6boFF7srzE4ywS2eSpA==/base.apk\\n[ 49%] /data/app/com.tts.hybird-1-s6boFF7srzE4ywS2eSpA==/base.apk\\n[ 49%] /data/app/com.tts.hybird-1-s6boFF7srzE4ywS2eSpA==/base.apk\\n[ 50%] /data/app/com.tts.hybird-1-s6boFF7srzE4ywS2eSpA==/base.apk\\n[ 50%] /data/app/com.tts.hybird-1-s6boFF7srzE4ywS2eSpA==/base.apk\\n[ 50%] /data/app/com.tts.hybird-1-s6boFF7srzE4ywS2eSpA==/base.apk\\n[ 51%] /data/app/com.tts.hybird-1-s6boFF7srzE4ywS2eSpA==/base.apk\\n[ 51%] /data/app/com.tts.hybird-1-s6boFF7srzE4ywS2eSpA==/base.apk\\n[ 51%] /data/app/com.tts.hybird-1-s6boFF7srzE4ywS2eSpA==/base.apk\\n[ 52%] /data/app/com.tts.hybird-1-s6boFF7srzE4ywS2eSpA==/base.apk\\n[ 52%] /data/app/com.tts.hybird-1-s6boFF7srzE4ywS2eSpA==/base.apk\\n[ 52%] /data/app/com.tts.hybird-1-s6boFF7srzE4ywS2eSpA==/base.apk\\n[ 52%] /data/app/com.tts.hybird-1-s6boFF7srzE4ywS2eSpA==/base.apk\\n[ 53%] /data/app/com.tts.hybird-1-s6boFF7srzE4ywS2eSpA==/base.apk\\n[ 53%] /data/app/com.tts.hybird-1-s6boFF7srzE4ywS2eSpA==/base.apk\\n[ 53%] /data/app/com.tts.hybird-1-s6boFF7srzE4ywS2eSpA==/base.apk\\n[ 54%] /data/app/com.tts.hybird-1-s6boFF7srzE4ywS2eSpA==/base.apk\\n[ 54%] /data/app/com.tts.hybird-1-s6boFF7srzE4ywS2eSpA==/base.apk\\n[ 54%] /data/app/com.tts.hybird-1-s6boFF7srzE4ywS2eSpA==/base.apk\\n[ 55%] /data/app/com.tts.hybird-1-s6boFF7srzE4ywS2eSpA==/base.apk\\n[ 55%] /data/app/com.tts.hybird-1-s6boFF7srzE4ywS2eSpA==/base.apk\\n[ 55%] /data/app/com.tts.hybird-1-s6boFF7srzE4ywS2eSpA==/base.apk\\n[ 55%] /data/app/com.tts.hybird-1-s6boFF7srzE4ywS2eSpA==/base.apk\\n[ 56%] /data/app/com.tts.hybird-1-s6boFF7srzE4ywS2eSpA==/base.apk\\n[ 56%] /data/app/com.tts.hybird-1-s6boFF7srzE4ywS2eSpA==/base.apk\\n[ 56%] /data/app/com.tts.hybird-1-s6boFF7srzE4ywS2eSpA==/base.apk\\n[ 57%] /data/app/com.tts.hybird-1-s6boFF7srzE4ywS2eSpA==/base.apk\\n[ 57%] /data/app/com.tts.hybird-1-s6boFF7srzE4ywS2eSpA==/base.apk\\n[ 57%] /data/app/com.tts.hybird-1-s6boFF7srzE4ywS2eSpA==/base.apk\\n[ 58%] /data/app/com.tts.hybird-1-s6boFF7srzE4ywS2eSpA==/base.apk\\n[ 58%] /data/app/com.tts.hybird-1-s6boFF7srzE4ywS2eSpA==/base.apk\\n[ 58%] /data/app/com.tts.hybird-1-s6boFF7srzE4ywS2eSpA==/base.apk\\n[ 58%] /data/app/com.tts.hybird-1-s6boFF7srzE4ywS2eSpA==/base.apk\\n[ 59%] /data/app/com.tts.hybird-1-s6boFF7srzE4ywS2eSpA==/base.apk\\n[ 59%] /data/app/com.tts.hybird-1-s6boFF7srzE4ywS2eSpA==/base.apk\\n[ 59%] /data/app/com.tts.hybird-1-s6boFF7srzE4ywS2eSpA==/base.apk\\n[ 60%] /data/app/com.tts.hybird-1-s6boFF7srzE4ywS2eSpA==/base.apk\\n[ 60%] /data/app/com.tts.hybird-1-s6boFF7srzE4ywS2eSpA==/base.apk\\n[ 60%] /data/app/com.tts.hybird-1-s6boFF7srzE4ywS2eSpA==/base.apk\\n[ 61%] /data/app/com.tts.hybird-1-s6boFF7srzE4ywS2eSpA==/base.apk\\n[ 61%] /data/app/com.tts.hybird-1-s6boFF7srzE4ywS2eSpA==/base.apk\\n[ 61%] /data/app/com.tts.hybird-1-s6boFF7srzE4ywS2eSpA==/base.apk\\n[ 62%] /data/app/com.tts.hybird-1-s6boFF7srzE4ywS2eSpA==/base.apk\\n[ 62%] /data/app/com.tts.hybird-1-s6boFF7srzE4ywS2eSpA==/base.apk\\n[ 62%] /data/app/com.tts.hybird-1-s6boFF7srzE4ywS2eSpA==/base.apk\\n[ 62%] /data/app/com.tts.hybird-1-s6boFF7srzE4ywS2eSpA==/base.apk\\n[ 63%] /data/app/com.tts.hybird-1-s6boFF7srzE4ywS2eSpA==/base.apk\\n[ 63%] /data/app/com.tts.hybird-1-s6boFF7srzE4ywS2eSpA==/base.apk\\n[ 63%] /data/app/com.tts.hybird-1-s6boFF7srzE4ywS2eSpA==/base.apk\\n[ 64%] /data/app/com.tts.hybird-1-s6boFF7srzE4ywS2eSpA==/base.apk\\n[ 64%] /data/app/com.tts.hybird-1-s6boFF7srzE4ywS2eSpA==/base.apk\\n[ 64%] /data/app/com.tts.hybird-1-s6boFF7srzE4ywS2eSpA==/base.apk\\n[ 65%] /data/app/com.tts.hybird-1-s6boFF7srzE4ywS2eSpA==/base.apk\\n[ 65%] /data/app/com.tts.hybird-1-s6boFF7srzE4ywS2eSpA==/base.apk\\n[ 65%] /data/app/com.tts.hybird-1-s6boFF7srzE4ywS2eSpA==/base.apk\\n[ 65%] /data/app/com.tts.hybird-1-s6boFF7srzE4ywS2eSpA==/base.apk\\n[ 66%] /data/app/com.tts.hybird-1-s6boFF7srzE4ywS2eSpA==/base.apk\\n[ 66%] /data/app/com.tts.hybird-1-s6boFF7srzE4ywS2eSpA==/base.apk\\n[ 66%] /data/app/com.tts.hybird-1-s6boFF7srzE4ywS2eSpA==/base.apk\\n[ 67%] /data/app/com.tts.hybird-1-s6boFF7srzE4ywS2eSpA==/base.apk\\n[ 67%] /data/app/com.tts.hybird-1-s6boFF7srzE4ywS2eSpA==/base.apk\\n[ 67%] /data/app/com.tts.hybird-1-s6boFF7srzE4ywS2eSpA==/base.apk\\n[ 68%] /data/app/com.tts.hybird-1-s6boFF7srzE4ywS2eSpA==/base.apk\\n[ 68%] /data/app/com.tts.hybird-1-s6boFF7srzE4ywS2eSpA==/base.apk\\n[ 68%] /data/app/com.tts.hybird-1-s6boFF7srzE4ywS2eSpA==/base.apk\\n[ 68%] /data/app/com.tts.hybird-1-s6boFF7srzE4ywS2eSpA==/base.apk\\n[ 69%] /data/app/com.tts.hybird-1-s6boFF7srzE4ywS2eSpA==/base.apk\\n[ 69%] /data/app/com.tts.hybird-1-s6boFF7srzE4ywS2eSpA==/base.apk\\n[ 69%] /data/app/com.tts.hybird-1-s6boFF7srzE4ywS2eSpA==/base.apk\\n[ 70%] /data/app/com.tts.hybird-1-s6boFF7srzE4ywS2eSpA==/base.apk\\n[ 70%] /data/app/com.tts.hybird-1-s6boFF7srzE4ywS2eSpA==/base.apk\\n[ 70%] /data/app/com.tts.hybird-1-s6boFF7srzE4ywS2eSpA==/base.apk\\n[ 71%] /data/app/com.tts.hybird-1-s6boFF7srzE4ywS2eSpA==/base.apk\\n[ 71%] /data/app/com.tts.hybird-1-s6boFF7srzE4ywS2eSpA==/base.apk\\n[ 71%] /data/app/com.tts.hybird-1-s6boFF7srzE4ywS2eSpA==/base.apk\\n[ 71%] /data/app/com.tts.hybird-1-s6boFF7srzE4ywS2eSpA==/base.apk\\n[ 72%] /data/app/com.tts.hybird-1-s6boFF7srzE4ywS2eSpA==/base.apk\\n[ 72%] /data/app/com.tts.hybird-1-s6boFF7srzE4ywS2eSpA==/base.apk\\n[ 72%] /data/app/com.tts.hybird-1-s6boFF7srzE4ywS2eSpA==/base.apk\\n[ 73%] /data/app/com.tts.hybird-1-s6boFF7srzE4ywS2eSpA==/base.apk\\n[ 73%] /data/app/com.tts.hybird-1-s6boFF7srzE4ywS2eSpA==/base.apk\\n[ 73%] /data/app/com.tts.hybird-1-s6boFF7srzE4ywS2eSpA==/base.apk\\n[ 74%] /data/app/com.tts.hybird-1-s6boFF7srzE4ywS2eSpA==/base.apk\\n[ 74%] /data/app/com.tts.hybird-1-s6boFF7srzE4ywS2eSpA==/base.apk\\n[ 74%] /data/app/com.tts.hybird-1-s6boFF7srzE4ywS2eSpA==/base.apk\\n[ 75%] /data/app/com.tts.hybird-1-s6boFF7srzE4ywS2eSpA==/base.apk\\n[ 75%] /data/app/com.tts.hybird-1-s6boFF7srzE4ywS2eSpA==/base.apk\\n[ 75%] /data/app/com.tts.hybird-1-s6boFF7srzE4ywS2eSpA==/base.apk\\n[ 75%] /data/app/com.tts.hybird-1-s6boFF7srzE4ywS2eSpA==/base.apk\\n[ 76%] /data/app/com.tts.hybird-1-s6boFF7srzE4ywS2eSpA==/base.apk\\n[ 76%] /data/app/com.tts.hybird-1-s6boFF7srzE4ywS2eSpA==/base.apk\\n[ 76%] /data/app/com.tts.hybird-1-s6boFF7srzE4ywS2eSpA==/base.apk\\n[ 77%] /data/app/com.tts.hybird-1-s6boFF7srzE4ywS2eSpA==/base.apk\\n[ 77%] /data/app/com.tts.hybird-1-s6boFF7srzE4ywS2eSpA==/base.apk\\n[ 77%] /data/app/com.tts.hybird-1-s6boFF7srzE4ywS2eSpA==/base.apk\\n[ 78%] /data/app/com.tts.hybird-1-s6boFF7srzE4ywS2eSpA==/base.apk\\n[ 78%] /data/app/com.tts.hybird-1-s6boFF7srzE4ywS2eSpA==/base.apk\\n[ 78%] /data/app/com.tts.hybird-1-s6boFF7srzE4ywS2eSpA==/base.apk\\n[ 78%] /data/app/com.tts.hybird-1-s6boFF7srzE4ywS2eSpA==/base.apk\\n[ 79%] /data/app/com.tts.hybird-1-s6boFF7srzE4ywS2eSpA==/base.apk\\n[ 79%] /data/app/com.tts.hybird-1-s6boFF7srzE4ywS2eSpA==/base.apk\\n[ 79%] /data/app/com.tts.hybird-1-s6boFF7srzE4ywS2eSpA==/base.apk\\n[ 80%] /data/app/com.tts.hybird-1-s6boFF7srzE4ywS2eSpA==/base.apk\\n[ 80%] /data/app/com.tts.hybird-1-s6boFF7srzE4ywS2eSpA==/base.apk\\n[ 80%] /data/app/com.tts.hybird-1-s6boFF7srzE4ywS2eSpA==/base.apk\\n[ 81%] /data/app/com.tts.hybird-1-s6boFF7srzE4ywS2eSpA==/base.apk\\n[ 81%] /data/app/com.tts.hybird-1-s6boFF7srzE4ywS2eSpA==/base.apk\\n[ 81%] /data/app/com.tts.hybird-1-s6boFF7srzE4ywS2eSpA==/base.apk\\n[ 81%] /data/app/com.tts.hybird-1-s6boFF7srzE4ywS2eSpA==/base.apk\\n[ 82%] /data/app/com.tts.hybird-1-s6boFF7srzE4ywS2eSpA==/base.apk\\n[ 82%] /data/app/com.tts.hybird-1-s6boFF7srzE4ywS2eSpA==/base.apk\\n[ 82%] /data/app/com.tts.hybird-1-s6boFF7srzE4ywS2eSpA==/base.apk\\n[ 83%] /data/app/com.tts.hybird-1-s6boFF7srzE4ywS2eSpA==/base.apk\\n[ 83%] /data/app/com.tts.hybird-1-s6boFF7srzE4ywS2eSpA==/base.apk\\n[ 83%] /data/app/com.tts.hybird-1-s6boFF7srzE4ywS2eSpA==/base.apk\\n[ 84%] /data/app/com.tts.hybird-1-s6boFF7srzE4ywS2eSpA==/base.apk\\n[ 84%] /data/app/com.tts.hybird-1-s6boFF7srzE4ywS2eSpA==/base.apk\\n[ 84%] /data/app/com.tts.hybird-1-s6boFF7srzE4ywS2eSpA==/base.apk\\n[ 85%] /data/app/com.tts.hybird-1-s6boFF7srzE4ywS2eSpA==/base.apk\\n[ 85%] /data/app/com.tts.hybird-1-s6boFF7srzE4ywS2eSpA==/base.apk\\n[ 85%] /data/app/com.tts.hybird-1-s6boFF7srzE4ywS2eSpA==/base.apk\\n[ 85%] /data/app/com.tts.hybird-1-s6boFF7srzE4ywS2eSpA==/base.apk\\n[ 86%] /data/app/com.tts.hybird-1-s6boFF7srzE4ywS2eSpA==/base.apk\\n[ 86%] /data/app/com.tts.hybird-1-s6boFF7srzE4ywS2eSpA==/base.apk\\n[ 86%] /data/app/com.tts.hybird-1-s6boFF7srzE4ywS2eSpA==/base.apk\\n[ 87%] /data/app/com.tts.hybird-1-s6boFF7srzE4ywS2eSpA==/base.apk\\n[ 87%] /data/app/com.tts.hybird-1-s6boFF7srzE4ywS2eSpA==/base.apk\\n[ 87%] /data/app/com.tts.hybird-1-s6boFF7srzE4ywS2eSpA==/base.apk\\n[ 88%] /data/app/com.tts.hybird-1-s6boFF7srzE4ywS2eSpA==/base.apk\\n[ 88%] /data/app/com.tts.hybird-1-s6boFF7srzE4ywS2eSpA==/base.apk\\n[ 88%] /data/app/com.tts.hybird-1-s6boFF7srzE4ywS2eSpA==/base.apk\\n[ 88%] /data/app/com.tts.hybird-1-s6boFF7srzE4ywS2eSpA==/base.apk\\n[ 89%] /data/app/com.tts.hybird-1-s6boFF7srzE4ywS2eSpA==/base.apk\\n[ 89%] /data/app/com.tts.hybird-1-s6boFF7srzE4ywS2eSpA==/base.apk\\n[ 89%] /data/app/com.tts.hybird-1-s6boFF7srzE4ywS2eSpA==/base.apk\\n[ 90%] /data/app/com.tts.hybird-1-s6boFF7srzE4ywS2eSpA==/base.apk\\n[ 90%] /data/app/com.tts.hybird-1-s6boFF7srzE4ywS2eSpA==/base.apk\\n[ 90%] /data/app/com.tts.hybird-1-s6boFF7srzE4ywS2eSpA==/base.apk\\n[ 91%] /data/app/com.tts.hybird-1-s6boFF7srzE4ywS2eSpA==/base.apk\\n[ 91%] /data/app/com.tts.hybird-1-s6boFF7srzE4ywS2eSpA==/base.apk\\n[ 91%] /data/app/com.tts.hybird-1-s6boFF7srzE4ywS2eSpA==/base.apk\\n[ 91%] /data/app/com.tts.hybird-1-s6boFF7srzE4ywS2eSpA==/base.apk\\n[ 92%] /data/app/com.tts.hybird-1-s6boFF7srzE4ywS2eSpA==/base.apk\\n[ 92%] /data/app/com.tts.hybird-1-s6boFF7srzE4ywS2eSpA==/base.apk\\n[ 92%] /data/app/com.tts.hybird-1-s6boFF7srzE4ywS2eSpA==/base.apk\\n[ 93%] /data/app/com.tts.hybird-1-s6boFF7srzE4ywS2eSpA==/base.apk\\n[ 93%] /data/app/com.tts.hybird-1-s6boFF7srzE4ywS2eSpA==/base.apk\\n[ 93%] /data/app/com.tts.hybird-1-s6boFF7srzE4ywS2eSpA==/base.apk\\n[ 94%] /data/app/com.tts.hybird-1-s6boFF7srzE4ywS2eSpA==/base.apk\\n[ 94%] /data/app/com.tts.hybird-1-s6boFF7srzE4ywS2eSpA==/base.apk\\n[ 94%] /data/app/com.tts.hybird-1-s6boFF7srzE4ywS2eSpA==/base.apk\\n[ 94%] /data/app/com.tts.hybird-1-s6boFF7srzE4ywS2eSpA==/base.apk\\n[ 95%] /data/app/com.tts.hybird-1-s6boFF7srzE4ywS2eSpA==/base.apk\\n[ 95%] /data/app/com.tts.hybird-1-s6boFF7srzE4ywS2eSpA==/base.apk\\n[ 95%] /data/app/com.tts.hybird-1-s6boFF7srzE4ywS2eSpA==/base.apk\\n[ 96%] /data/app/com.tts.hybird-1-s6boFF7srzE4ywS2eSpA==/base.apk\\n[ 96%] /data/app/com.tts.hybird-1-s6boFF7srzE4ywS2eSpA==/base.apk\\n[ 96%] /data/app/com.tts.hybird-1-s6boFF7srzE4ywS2eSpA==/base.apk\\n[ 97%] /data/app/com.tts.hybird-1-s6boFF7srzE4ywS2eSpA==/base.apk\\n[ 97%] /data/app/com.tts.hybird-1-s6boFF7srzE4ywS2eSpA==/base.apk\\n[ 97%] /data/app/com.tts.hybird-1-s6boFF7srzE4ywS2eSpA==/base.apk\\n[ 98%] /data/app/com.tts.hybird-1-s6boFF7srzE4ywS2eSpA==/base.apk\\n[ 98%] /data/app/com.tts.hybird-1-s6boFF7srzE4ywS2eSpA==/base.apk\\n[ 98%] /data/app/com.tts.hybird-1-s6boFF7srzE4ywS2eSpA==/base.apk\\n[ 98%] /data/app/com.tts.hybird-1-s6boFF7srzE4ywS2eSpA==/base.apk\\n[ 99%] /data/app/com.tts.hybird-1-s6boFF7srzE4ywS2eSpA==/base.apk\\n[ 99%] /data/app/com.tts.hybird-1-s6boFF7srzE4ywS2eSpA==/base.apk\\n[ 99%] /data/app/com.tts.hybird-1-s6boFF7srzE4ywS2eSpA==/base.apk\\n[100%] /data/app/com.tts.hybird-1-s6boFF7srzE4ywS2eSpA==/base.apk\\n/data/app/com.tts.hybird-1-s6boFF7srzE4ywS2eSpA==/base.apk: 1 file pulled. 27.6 MB/s (21661272 bytes in 0.748s)'"
      ]
     },
     "execution_count": 93,
     "metadata": {},
     "output_type": "execute_result"
    }
   ],
   "source": [
    "# 获取设备名称\n",
    "device = checkDevice()\n",
    "print('查找到设备%s' % device)\n",
    "#startStatus = openApp('com.tts.hybird', 'com.tts.trip.WelcomeActivity')\n",
    "# if startStatus:\n",
    "#     print('启动app成功')\n",
    "# else:\n",
    "#     print('启动app失败')\n",
    "# activitys = getFrontActivity('com.tts.hybird')\n",
    "# apps = getThirdApps()\n",
    "pullApk('com.tts.hybird')"
   ]
  }
 ],
 "metadata": {
  "kernelspec": {
   "display_name": "Python 3",
   "language": "python",
   "name": "python3"
  },
  "language_info": {
   "codemirror_mode": {
    "name": "ipython",
    "version": 3
   },
   "file_extension": ".py",
   "mimetype": "text/x-python",
   "name": "python",
   "nbconvert_exporter": "python",
   "pygments_lexer": "ipython3",
   "version": "3.7.0"
  }
 },
 "nbformat": 4,
 "nbformat_minor": 2
}
