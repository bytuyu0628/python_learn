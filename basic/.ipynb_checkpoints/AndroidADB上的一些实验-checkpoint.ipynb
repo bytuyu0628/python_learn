{
 "cells": [
  {
   "cell_type": "code",
   "execution_count": 4,
   "metadata": {},
   "outputs": [],
   "source": [
    "import os\n",
    "import subprocess\n",
    "import re"
   ]
  },
  {
   "cell_type": "code",
   "execution_count": 76,
   "metadata": {},
   "outputs": [
    {
     "name": "stdout",
     "output_type": "stream",
     "text": [
      "查找到设备UYT0217C27001193\n"
     ]
    },
    {
     "data": {
      "text/plain": [
       "['com.tts.hybird/com.tts.trip.HomeActivity']"
      ]
     },
     "execution_count": 76,
     "metadata": {},
     "output_type": "execute_result"
    }
   ],
   "source": [
    "# 获取设备名称\n",
    "device = checkDevice()\n",
    "print('查找到设备%s' % device)\n",
    "#startStatus = openApp('com.tts.hybird', 'com.tts.trip.WelcomeActivity')\n",
    "# if startStatus:\n",
    "#     print('启动app成功')\n",
    "# else:\n",
    "#     print('启动app失败')\n",
    "activitys = getFrontActivity('com.tts.hybird')\n",
    "activitys"
   ]
  },
  {
   "cell_type": "markdown",
   "metadata": {},
   "source": [
    "## 检查设备在线情况\n",
    "adb devices"
   ]
  },
  {
   "cell_type": "code",
   "execution_count": 21,
   "metadata": {},
   "outputs": [],
   "source": [
    "# 检查设备在线\n",
    "def checkDevice():\n",
    "    devices = os.popen('adb devices').read().strip('\\n').split('\\n')\n",
    "    if len(devices) > 1:\n",
    "        return devices[1].split('\\t')[0]\n",
    "    else:\n",
    "        return \"\""
   ]
  },
  {
   "cell_type": "markdown",
   "metadata": {},
   "source": [
    "## 打开APP\n",
    "使用adb shell am start -n com.android.settings/com.tts.trip.WelcomeActivity\n",
    "使用app包与要启动的Activity的全路径名称"
   ]
  },
  {
   "cell_type": "code",
   "execution_count": 30,
   "metadata": {},
   "outputs": [],
   "source": [
    "# 打开APP\n",
    "def openApp(package, name):\n",
    "    appCommond = 'adb shell am start -n %s/%s' % (package, name)\n",
    "    info = os.popen(appCommond).read().strip('\\n')\n",
    "    if 'Error' in info:\n",
    "        return False\n",
    "    else:\n",
    "        return True"
   ]
  },
  {
   "cell_type": "markdown",
   "metadata": {},
   "source": [
    "## 获取前台Activity\n",
    "\n",
    "adb shell dumpsys activity activities | sed -En -e '/Running activities/,/Run #0/p'\n",
    "\n",
    "adb shell dumpsys activity | grep -i run"
   ]
  },
  {
   "cell_type": "code",
   "execution_count": 74,
   "metadata": {},
   "outputs": [],
   "source": [
    "# 获取前台Activity\n",
    "def getFrontActivity(package):\n",
    "    info = ''\n",
    "    activitys = []\n",
    "    if package.strip('\\n') == '':\n",
    "        info = os.popen('adb shell dumpsys activity activities | sed -En -e \\'/Running activities/,/Run #0/p\\'').read().strip('\\n')\n",
    "    else:\n",
    "        info = os.popen('adb shell dumpsys activity activities | sed -En -e \\'/Running activities/,/Run #0/p\\' | grep %s' % package).read().strip('\\n')\n",
    "    \n",
    "    # 换行分组\n",
    "    infos = info.split('\\n')\n",
    "    for one in infos:\n",
    "        if 'ActivityRecord' in one:\n",
    "            words = one.split(' ')\n",
    "            for word in words:\n",
    "                if '/' in word:\n",
    "                    activitys.append(word)\n",
    "    return activitys"
   ]
  },
  {
   "cell_type": "markdown",
   "metadata": {},
   "source": [
    "## 获取手机上已安装的应用\n",
    "\n",
    "- 不使用参数：adb shell pm list packages，打印设备/模拟器上的所有软件包\n",
    "- 使用-f参数：adb shell pm list packages -f,输出包和包相关联的文件\n",
    "- 使用-d参数：adb shell pm list packages -d,只输出禁用的包。由于本机禁用没有，输出为空。\n",
    "- 使用-e参数：adb shell pm list packages -e,只输出启用的包。\n",
    "- 使用-s参数：adb shell pm list packages -s,只输出系统的包。\n",
    "- 使用-3参数：adb shell pm list packages -3,只输出第三方的包。\n",
    "- 使用-i参数：adb shell pm list packages -i,只输出包和安装信息（安装来源）。\n",
    "- 使用-u参数：adb shell pm list packages -u,只输出包和未安装包信息（安装来源）\n",
    "- 使用--user参数：adb shell pm list packages --user <USER_ID>，根据用户id查询用户的空间的所有包，USER_ID代表当前连接设备的顺序，从零开始：\n",
    "- 使用-e参数且设置过滤条件：adb shell pm list packages -e \"ximalaya\",只输出启用的包。"
   ]
  },
  {
   "cell_type": "code",
   "execution_count": null,
   "metadata": {},
   "outputs": [],
   "source": [
    "# 获取第三方应用\n",
    "def getThirdApps():\n",
    "    packageNames = []\n",
    "    commond = 'adb shell pm list packages -3'\n",
    "    info = os.popen(commond).read().strip('\\n')\n",
    "    apps = info.split('\\n')\n",
    "    for app in apps:\n",
    "        app = app.replace('package:', '')\n",
    "        packageNames.append(app)\n",
    "    return packageNames"
   ]
  }
 ],
 "metadata": {
  "kernelspec": {
   "display_name": "Python 3",
   "language": "python",
   "name": "python3"
  },
  "language_info": {
   "codemirror_mode": {
    "name": "ipython",
    "version": 3
   },
   "file_extension": ".py",
   "mimetype": "text/x-python",
   "name": "python",
   "nbconvert_exporter": "python",
   "pygments_lexer": "ipython3",
   "version": "3.7.0"
  }
 },
 "nbformat": 4,
 "nbformat_minor": 2
}
