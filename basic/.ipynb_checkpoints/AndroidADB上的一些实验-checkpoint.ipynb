{
 "cells": [
  {
   "cell_type": "code",
   "execution_count": 41,
   "metadata": {},
   "outputs": [],
   "source": [
    "import os\n",
    "import sys\n",
    "import subprocess\n",
    "import time\n",
    "import random"
   ]
  },
  {
   "cell_type": "code",
   "execution_count": 2,
   "metadata": {},
   "outputs": [],
   "source": [
    "# 执行中断命令 返回结果\n",
    "def bashInfo(commond):\n",
    "    return os.popen(commond).read().strip('\\n')"
   ]
  },
  {
   "cell_type": "markdown",
   "metadata": {},
   "source": [
    "## 检查设备在线情况\n",
    "adb devices"
   ]
  },
  {
   "cell_type": "code",
   "execution_count": 103,
   "metadata": {},
   "outputs": [],
   "source": [
    "# 检查设备在线\n",
    "def checkDevice():\n",
    "    devices = os.popen('adb devices').read().strip('\\n').split('\\n')\n",
    "    if len(devices) > 1:\n",
    "        return devices[1].split('\\t')[0]\n",
    "    else:\n",
    "        return \"\""
   ]
  },
  {
   "cell_type": "markdown",
   "metadata": {},
   "source": [
    "## 打开APP\n",
    "使用adb shell am start -n com.android.settings/com.tts.trip.WelcomeActivity\n",
    "使用app包与要启动的Activity的全路径名称"
   ]
  },
  {
   "cell_type": "code",
   "execution_count": 20,
   "metadata": {},
   "outputs": [],
   "source": [
    "# 打开APP\n",
    "def openApp(package, name):\n",
    "    appCommond = 'adb shell am start -n %s/%s' % (package, name)\n",
    "    info = os.popen(appCommond).read().strip('\\n')\n",
    "    if 'Error' in info:\n",
    "        return False\n",
    "    else:\n",
    "        return True"
   ]
  },
  {
   "cell_type": "markdown",
   "metadata": {},
   "source": [
    "## 获取前台Activity\n",
    "\n",
    "adb shell dumpsys activity activities | sed -En -e '/Running activities/,/Run #0/p'\n",
    "\n",
    "adb shell dumpsys activity | grep -i run"
   ]
  },
  {
   "cell_type": "code",
   "execution_count": 17,
   "metadata": {},
   "outputs": [],
   "source": [
    "# 获取前台Activity\n",
    "def getFrontActivity(package):\n",
    "    info = ''\n",
    "    activitys = []\n",
    "    if package.strip('\\n') == '':\n",
    "        info = os.popen('adb shell dumpsys activity activities | sed -En -e \\'/Running activities/,/Run #0/p\\'').read().strip('\\n')\n",
    "    else:\n",
    "        info = os.popen('adb shell dumpsys activity activities | sed -En -e \\'/Running activities/,/Run #0/p\\' | grep %s' % package).read().strip('\\n')\n",
    "    \n",
    "    # 换行分组\n",
    "    infos = info.split('\\n')\n",
    "    for one in infos:\n",
    "        if 'ActivityRecord' in one:\n",
    "            words = one.split(' ')\n",
    "            for word in words:\n",
    "                if '/' in word:\n",
    "                    activitys.append(word)\n",
    "    return activitys"
   ]
  },
  {
   "cell_type": "markdown",
   "metadata": {},
   "source": [
    "## 获取手机上已安装的应用\n",
    "\n",
    "- 不使用参数：adb shell pm list packages，打印设备/模拟器上的所有软件包\n",
    "- 使用-f参数：adb shell pm list packages -f,输出包和包相关联的文件\n",
    "- 使用-d参数：adb shell pm list packages -d,只输出禁用的包。由于本机禁用没有，输出为空。\n",
    "- 使用-e参数：adb shell pm list packages -e,只输出启用的包。\n",
    "- 使用-s参数：adb shell pm list packages -s,只输出系统的包。\n",
    "- 使用-3参数：adb shell pm list packages -3,只输出第三方的包。\n",
    "- 使用-i参数：adb shell pm list packages -i,只输出包和安装信息（安装来源）。\n",
    "- 使用-u参数：adb shell pm list packages -u,只输出包和未安装包信息（安装来源）\n",
    "- 使用--user参数：adb shell pm list packages --user <USER_ID>，根据用户id查询用户的空间的所有包，USER_ID代表当前连接设备的顺序，从零开始：\n",
    "- 使用-e参数且设置过滤条件：adb shell pm list packages -e \"ximalaya\",只输出启用的包。"
   ]
  },
  {
   "cell_type": "code",
   "execution_count": 58,
   "metadata": {},
   "outputs": [],
   "source": [
    "# 获取第三方应用\n",
    "def getThirdApps():\n",
    "    packageNames = []\n",
    "    commond = 'adb shell pm list packages -3'\n",
    "    info = os.popen(commond).read().strip('\\n')\n",
    "    apps = info.split('\\n')\n",
    "    for app in apps:\n",
    "        app = app.replace('package:', '')\n",
    "        packageNames.append(app)\n",
    "    return packageNames"
   ]
  },
  {
   "cell_type": "markdown",
   "metadata": {},
   "source": [
    "## 把apk包从手机下载到本地\n",
    "### 根据包名获取apk位置\n",
    "adb shell pm path 包名\n",
    "### 拉取\n",
    "adb pull 手机中apk的位置 保存在本地的位置"
   ]
  },
  {
   "cell_type": "code",
   "execution_count": 101,
   "metadata": {},
   "outputs": [],
   "source": [
    "# 拉取apk\n",
    "def pullApk(package):\n",
    "    getPathCommond = 'adb shell pm path %s' % package\n",
    "    path = bashInfo(getPathCommond)\n",
    "    path = path.replace('package:', '')\n",
    "    pullCommond = 'adb pull %s apk/%s.apk' % (path, package)\n",
    "    # 持续输出\n",
    "    subp = subprocess.Popen(pullCommond,shell=True,stdout=subprocess.PIPE)\n",
    "    c=subp.stdout.readline()\n",
    "    str = ''\n",
    "    while c:\n",
    "        str = c.decode().replace('\\n','')\n",
    "        print(str,end='\\r')\n",
    "        c=subp.stdout.readline()\n",
    "    print('')\n",
    "    print('\\033[1;31m拉取%s完成\\033[0m' % app)\n",
    "    #return subp.returncode"
   ]
  },
  {
   "cell_type": "markdown",
   "metadata": {},
   "source": [
    "## 设备参数的获取\n",
    "### 屏幕分辨率\n",
    "adb shell wm size"
   ]
  },
  {
   "cell_type": "code",
   "execution_count": 14,
   "metadata": {},
   "outputs": [],
   "source": [
    "# 分辨率\n",
    "def getScreenResolution():\n",
    "    info = bashInfo('adb shell wm size')\n",
    "    resolutions = info.split('\\n')\n",
    "    resolutionDict = {}\n",
    "    for one in resolutions:\n",
    "        name = one.split(':')[0].split(' ')[0]\n",
    "        r = one.split(':')[1]\n",
    "        resolutionDict[name] = r.strip(' ')\n",
    "    return resolutionDict"
   ]
  },
  {
   "cell_type": "markdown",
   "metadata": {},
   "source": [
    "## 一个简单monkey测试"
   ]
  },
  {
   "cell_type": "code",
   "execution_count": null,
   "metadata": {},
   "outputs": [],
   "source": [
    "# 自动执行开始\n",
    "def handle(package, launch, width, height):\n",
    "    # 启动app\n",
    "    startStatus = openApp(package, launch)\n",
    "    if startStatus:\n",
    "        print('启动app成功')\n",
    "    else:\n",
    "        print('启动app失败')\n",
    "        return;\n",
    "    time.sleep(3)\n",
    "    # 防止点击两次back造成程序退出\n",
    "    canBack = False\n",
    "    while 1:\n",
    "        # 中断条件\n",
    "        activitys = getFrontActivity(package)\n",
    "        if len(activitys) == 0:\n",
    "            print('结束了~')\n",
    "            break\n",
    "        # 随机有个操作类型，0~50为点击，50~80为滑动，80~100为back\n",
    "        typeId = random.randint(0, 100)\n",
    "        if typeId < 50:\n",
    "            typeStatus = 0\n",
    "        elif typeId >= 50 and typeId < 80:\n",
    "            typeStatus = 1\n",
    "        else:\n",
    "            typeStatus = 2\n",
    "        rtime = random.uniform(0, 2)\n",
    "        rtime = round(rtime, 3)\n",
    "        # 点击事件\n",
    "        if typeStatus == 0:\n",
    "            rx = random.randint(0, width)\n",
    "            ry = random.randint(0, height)\n",
    "            time.sleep(rtime)\n",
    "            bashInfo('adb shell input tap %d %d' % (rx, ry))\n",
    "            canBack = False\n",
    "            print('点击：延迟%f秒：x:%d y:%d' % (rtime, rx, ry))\n",
    "        # 返回\n",
    "        elif typeStatus == 2:\n",
    "            if canBack:\n",
    "                continue;\n",
    "            bashInfo('adb shell input keyevent 4')\n",
    "            canBack = True\n",
    "            print('返回：延迟%f秒：back' % rtime)\n",
    "        # 滑动\n",
    "        elif typeStatus == 1:\n",
    "            rx1 = random.randint(0, width)\n",
    "            ry1 = random.randint(0, height)\n",
    "            rx2 = random.randint(0, width)\n",
    "            ry2 = random.randint(0, height)\n",
    "            bashInfo('adb shell input swipe %d %d %d %d' % (rx1, ry1, rx2, ry2))\n",
    "            canBack = False\n",
    "            print('滑动：延迟%f秒：x:%d y:%d -> x:%d y:%d' % (rtime, rx1, ry1, rx2, ry2))\n",
    "        \n",
    "# 获取屏幕分辨率\n",
    "r = getScreenResolution()\n",
    "if 'Override' in r.keys():\n",
    "    rOverride = r['Override']\n",
    "elif 'Physical' in r.keys():\n",
    "    rOverride = r['Physical']\n",
    "if not rOverride.strip() == '':\n",
    "    width = int(rOverride.split('x')[0])\n",
    "    height = int(rOverride.split('x')[1])\n",
    "    handle('com.tts.hybird', 'com.tts.trip.WelcomeActivity',width, height)"
   ]
  },
  {
   "cell_type": "code",
   "execution_count": 57,
   "metadata": {},
   "outputs": [
    {
     "name": "stdout",
     "output_type": "stream",
     "text": [
      "[]\n"
     ]
    }
   ],
   "source": [
    "# 获取设备名称\n",
    "#device = checkDevice()\n",
    "#print('查找到设备%s' % device)\n",
    "\n",
    "# startStatus = openApp('com.tencent.mm', '.ui.LauncherUI')\n",
    "# if startStatus:\n",
    "#     print('启动app成功')\n",
    "# else:\n",
    "#     print('启动app失败')\n",
    "\n",
    "activitys = getFrontActivity('com.tts.hybird')\n",
    "print(activitys)\n",
    "\n",
    "# apps = getThirdApps()\n",
    "# for app in apps:\n",
    "#     pullApk(app)\n",
    "\n",
    "# getScreenResolution()\n"
   ]
  }
 ],
 "metadata": {
  "kernelspec": {
   "display_name": "Python 3",
   "language": "python",
   "name": "python3"
  },
  "language_info": {
   "codemirror_mode": {
    "name": "ipython",
    "version": 3
   },
   "file_extension": ".py",
   "mimetype": "text/x-python",
   "name": "python",
   "nbconvert_exporter": "python",
   "pygments_lexer": "ipython3",
   "version": "3.7.0"
  }
 },
 "nbformat": 4,
 "nbformat_minor": 2
}
