{
 "cells": [
  {
   "cell_type": "markdown",
   "metadata": {},
   "source": [
    "# TCP相关知识"
   ]
  },
  {
   "cell_type": "code",
   "execution_count": 4,
   "metadata": {},
   "outputs": [],
   "source": [
    "from socket import *\n",
    "from time import ctime"
   ]
  },
  {
   "cell_type": "markdown",
   "metadata": {},
   "source": [
    "TCP时间戳服务器\n",
    "> 这个脚本创建一个TCP服务器，接收客户端的消息，然后将消息加上时间戳前缀返回客户端。"
   ]
  },
  {
   "cell_type": "code",
   "execution_count": null,
   "metadata": {},
   "outputs": [],
   "source": [
    "HOST = ''\n",
    "PORT = 21568\n",
    "BUFSIZE = 1024\n",
    "ADDR = (HOST, PORT)\n",
    "tcpSerSock = socket(AF_INET, SOCK_STREAM)\n",
    "tcpSerSock.bind(ADDR)\n",
    "tcpSerSock.listen(5)\n",
    "\n",
    "while True:\n",
    "    print('waiting for connection...')\n",
    "    tcpCliSock, addr = tcpSerSock.accept()\n",
    "    print('...connected from:', addr)\n",
    "    while True:\n",
    "        data = tcpCliSock.recv(BUFSIZE)\n",
    "        if not data:\n",
    "            break;\n",
    "            \n",
    "            tcpCliSock.send('[%s] %s' % (bytes(ctime(), 'utf-8'), data))\n",
    "        tcpCliSock.close()\n",
    "        \n",
    "    tcpSerSock.clonse()"
   ]
  },
  {
   "cell_type": "markdown",
   "metadata": {},
   "source": [
    "TCP时间戳客户端"
   ]
  },
  {
   "cell_type": "code",
   "execution_count": null,
   "metadata": {},
   "outputs": [],
   "source": [
    "HOST = '127.0.0.1' # or 'localhost'\n",
    "PORT = 21568\n",
    "BUFSIZE = 1024\n",
    "ADDR = (HOST, PORT)\n",
    "\n",
    "tcpCliSock = socket(AF_INET, SOCK_STREAM)\n",
    "tcpCliSock.connect(ADDR)\n",
    "\n",
    "while True:\n",
    "    data = input('>')\n",
    "    if not data:\n",
    "        break\n",
    "    tcpCliSock.send(data)\n",
    "    data = tcpCliSock.recv(BUFSIZ)\n",
    "    if not data:\n",
    "        break\n",
    "    print(data.decode('utf-8'))\n",
    "tcpCliSock.close()"
   ]
  }
 ],
 "metadata": {
  "kernelspec": {
   "display_name": "Python 3",
   "language": "python",
   "name": "python3"
  },
  "language_info": {
   "codemirror_mode": {
    "name": "ipython",
    "version": 3
   },
   "file_extension": ".py",
   "mimetype": "text/x-python",
   "name": "python",
   "nbconvert_exporter": "python",
   "pygments_lexer": "ipython3",
   "version": "3.7.0"
  }
 },
 "nbformat": 4,
 "nbformat_minor": 2
}
