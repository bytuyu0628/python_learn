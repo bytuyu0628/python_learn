{
 "cells": [
  {
   "cell_type": "markdown",
   "metadata": {},
   "source": [
    "# NLTK学习"
   ]
  },
  {
   "cell_type": "code",
   "execution_count": 51,
   "metadata": {},
   "outputs": [],
   "source": [
    "import nltk\n",
    "import jieba\n",
    "# https\n",
    "import ssl\n",
    "ssl._create_default_https_context=ssl._create_unverified_context"
   ]
  },
  {
   "cell_type": "code",
   "execution_count": null,
   "metadata": {
    "scrolled": false
   },
   "outputs": [],
   "source": [
    "nltk.download()"
   ]
  },
  {
   "cell_type": "code",
   "execution_count": 46,
   "metadata": {
    "scrolled": true
   },
   "outputs": [],
   "source": [
    "content = open('明亮的对话.txt').read()\n",
    "words = jieba.lcut(content, cut_all=False)\n",
    "# text = nltk.text.Text(words)"
   ]
  },
  {
   "cell_type": "code",
   "execution_count": 21,
   "metadata": {
    "scrolled": false
   },
   "outputs": [
    {
     "name": "stdout",
     "output_type": "stream",
     "text": [
      "Displaying 1 of 1 matches:\n",
      "雄主义 。 群体 很 容易 做出 刽子手 的 举动 ， 同样 也 很 容易 慷慨就义 。 正是 群体 ， 为 每 一种 信仰 的 胜利 而 不惜 血流成河 ” \n",
      "None\n"
     ]
    }
   ],
   "source": [
    "print(text.concordance(u'慷慨就义'))"
   ]
  },
  {
   "cell_type": "code",
   "execution_count": 78,
   "metadata": {},
   "outputs": [
    {
     "data": {
      "text/plain": [
       "['晚媚', '公子', '方歌', '刑风', '已经', '晚香', '铁胆', '于是', '开始', '之后']"
      ]
     },
     "execution_count": 78,
     "metadata": {},
     "output_type": "execute_result"
    }
   ],
   "source": [
    "# 关键词提取\n",
    "import jieba.analyse\n",
    "content = open('媚者无疆.txt').read()\n",
    "words = jieba.lcut(content, cut_all=False)\n",
    "allow_pos = ('n')\n",
    "# jieba.analyse.extract_tags(content, 10, withWeight=False, allowPOS=allow_pos)\n",
    "jieba.analyse.extract_tags(content, 10, withWeight=False)"
   ]
  }
 ],
 "metadata": {
  "kernelspec": {
   "display_name": "Python 3",
   "language": "python",
   "name": "python3"
  },
  "language_info": {
   "codemirror_mode": {
    "name": "ipython",
    "version": 3
   },
   "file_extension": ".py",
   "mimetype": "text/x-python",
   "name": "python",
   "nbconvert_exporter": "python",
   "pygments_lexer": "ipython3",
   "version": "3.7.0"
  }
 },
 "nbformat": 4,
 "nbformat_minor": 2
}
